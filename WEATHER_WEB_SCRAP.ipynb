{
  "nbformat": 4,
  "nbformat_minor": 0,
  "metadata": {
    "colab": {
      "provenance": [],
      "authorship_tag": "ABX9TyNvw8zffE4S7UhxdhxsYRR5",
      "include_colab_link": true
    },
    "kernelspec": {
      "name": "python3",
      "display_name": "Python 3"
    },
    "language_info": {
      "name": "python"
    }
  },
  "cells": [
    {
      "cell_type": "markdown",
      "metadata": {
        "id": "view-in-github",
        "colab_type": "text"
      },
      "source": [
        "<a href=\"https://colab.research.google.com/github/iamajarpit/weather-api/blob/main/WEATHER_WEB_SCRAP.ipynb\" target=\"_parent\"><img src=\"https://colab.research.google.com/assets/colab-badge.svg\" alt=\"Open In Colab\"/></a>"
      ]
    },
    {
      "cell_type": "code",
      "source": [
        "pip install requests-html\n"
      ],
      "metadata": {
        "colab": {
          "base_uri": "https://localhost:8080/"
        },
        "id": "20ryAxpH3PYf",
        "outputId": "37c4d390-5e71-4b0d-e1ac-06cf84ce5fea"
      },
      "execution_count": null,
      "outputs": [
        {
          "output_type": "stream",
          "name": "stdout",
          "text": [
            "Requirement already satisfied: requests-html in /usr/local/lib/python3.10/dist-packages (0.10.0)\n",
            "Requirement already satisfied: requests in /usr/local/lib/python3.10/dist-packages (from requests-html) (2.31.0)\n",
            "Requirement already satisfied: pyquery in /usr/local/lib/python3.10/dist-packages (from requests-html) (2.0.0)\n",
            "Requirement already satisfied: fake-useragent in /usr/local/lib/python3.10/dist-packages (from requests-html) (1.5.1)\n",
            "Requirement already satisfied: parse in /usr/local/lib/python3.10/dist-packages (from requests-html) (1.20.2)\n",
            "Requirement already satisfied: bs4 in /usr/local/lib/python3.10/dist-packages (from requests-html) (0.0.2)\n",
            "Requirement already satisfied: w3lib in /usr/local/lib/python3.10/dist-packages (from requests-html) (2.2.1)\n",
            "Requirement already satisfied: pyppeteer>=0.0.14 in /usr/local/lib/python3.10/dist-packages (from requests-html) (2.0.0)\n",
            "Requirement already satisfied: appdirs<2.0.0,>=1.4.3 in /usr/local/lib/python3.10/dist-packages (from pyppeteer>=0.0.14->requests-html) (1.4.4)\n",
            "Requirement already satisfied: certifi>=2023 in /usr/local/lib/python3.10/dist-packages (from pyppeteer>=0.0.14->requests-html) (2024.6.2)\n",
            "Requirement already satisfied: importlib-metadata>=1.4 in /usr/local/lib/python3.10/dist-packages (from pyppeteer>=0.0.14->requests-html) (8.0.0)\n",
            "Requirement already satisfied: pyee<12.0.0,>=11.0.0 in /usr/local/lib/python3.10/dist-packages (from pyppeteer>=0.0.14->requests-html) (11.1.0)\n",
            "Requirement already satisfied: tqdm<5.0.0,>=4.42.1 in /usr/local/lib/python3.10/dist-packages (from pyppeteer>=0.0.14->requests-html) (4.66.4)\n",
            "Requirement already satisfied: urllib3<2.0.0,>=1.25.8 in /usr/local/lib/python3.10/dist-packages (from pyppeteer>=0.0.14->requests-html) (1.26.19)\n",
            "Requirement already satisfied: websockets<11.0,>=10.0 in /usr/local/lib/python3.10/dist-packages (from pyppeteer>=0.0.14->requests-html) (10.4)\n",
            "Requirement already satisfied: beautifulsoup4 in /usr/local/lib/python3.10/dist-packages (from bs4->requests-html) (4.12.3)\n",
            "Requirement already satisfied: lxml>=2.1 in /usr/local/lib/python3.10/dist-packages (from pyquery->requests-html) (4.9.4)\n",
            "Requirement already satisfied: cssselect>=1.2.0 in /usr/local/lib/python3.10/dist-packages (from pyquery->requests-html) (1.2.0)\n",
            "Requirement already satisfied: charset-normalizer<4,>=2 in /usr/local/lib/python3.10/dist-packages (from requests->requests-html) (3.3.2)\n",
            "Requirement already satisfied: idna<4,>=2.5 in /usr/local/lib/python3.10/dist-packages (from requests->requests-html) (3.7)\n",
            "Requirement already satisfied: zipp>=0.5 in /usr/local/lib/python3.10/dist-packages (from importlib-metadata>=1.4->pyppeteer>=0.0.14->requests-html) (3.19.2)\n",
            "Requirement already satisfied: typing-extensions in /usr/local/lib/python3.10/dist-packages (from pyee<12.0.0,>=11.0.0->pyppeteer>=0.0.14->requests-html) (4.12.2)\n",
            "Requirement already satisfied: soupsieve>1.2 in /usr/local/lib/python3.10/dist-packages (from beautifulsoup4->bs4->requests-html) (2.5)\n"
          ]
        }
      ]
    },
    {
      "cell_type": "code",
      "source": [
        "pip install pillow\n"
      ],
      "metadata": {
        "colab": {
          "base_uri": "https://localhost:8080/"
        },
        "id": "VNazqyYe0xY_",
        "outputId": "77c1737e-6e0a-4573-d242-5ce6e384b26b"
      },
      "execution_count": null,
      "outputs": [
        {
          "output_type": "stream",
          "name": "stdout",
          "text": [
            "Requirement already satisfied: pillow in /usr/local/lib/python3.10/dist-packages (9.4.0)\n"
          ]
        }
      ]
    },
    {
      "cell_type": "code",
      "source": [
        "from requests_html import HTMLSession\n",
        "from PIL import Image as PILImage\n",
        "from IPython.display import Image, display\n",
        "import os\n",
        "\n",
        "# Initialize the session\n",
        "s = HTMLSession()\n",
        "\n",
        "# Get the city name from the user\n",
        "city = input(\"Enter the city name: \")\n",
        "\n",
        "# Construct the URL\n",
        "url = f'https://www.google.com/search?q=weather+{city}'\n",
        "\n",
        "# Get the response from the URL\n",
        "r = s.get(url, headers={\n",
        "    'User-Agent': 'Mozilla/5.0 (Windows NT 10.0; Win64; x64) AppleWebKit/537.36 (KHTML, like Gecko) Chrome/126.0.0.0 Safari/537.36',\n",
        "    \"Accept-Language\": \"en-US,en;q=0.9,ar;q=0.8\"\n",
        "})\n",
        "\n",
        "# Extract temperature and other weather details\n",
        "temp = r.html.find('span#wob_tm', first=True).text\n",
        "unit = r.html.find('div.vk_bk.wob-unit span.wob_t', first=True).text\n",
        "desc = r.html.find('div.VQF4g', first=True).find('span#wob_dc', first=True).text\n",
        "day = r.html.find('div.wob_dts', first=True).text\n",
        "\n",
        "# Convert Fahrenheit to Celsius\n",
        "def fahrenheit_to_celsius(fahrenheit):\n",
        "    celsius = int((fahrenheit - 32) * 5 / 9)\n",
        "    return celsius\n",
        "\n",
        "# Convert temperature from string to integer\n",
        "fahrenheit_temp = int(temp)\n",
        "\n",
        "# Convert the temperature to Celsius if needed\n",
        "if unit == '°F':\n",
        "    temp_in_celsius = fahrenheit_to_celsius(fahrenheit_temp)\n",
        "else:\n",
        "    temp_in_celsius = temp  # If the unit is already in Celsius\n",
        "\n",
        "# Mapping of weather descriptions to local image file paths\n",
        "weather_icons = {\n",
        "    \"lightning\": \"/content/Lightning.jpg\",\n",
        "    \"Sunny\": \"/content/SUNNY.jpg\",\n",
        "    \"Cloudy\": \"/content/cloudy.jpg\",\n",
        "    \"Rain\": \"/content/RAIN.jpg\",\n",
        "    \"Thunderstorm\": \"/content/THUNDERSTORM.jpeg\",\n",
        "    \"Mostly sunny\": \"/content/mostly sunny.jpeg\"\n",
        "\n",
        "    # Add more mappings as needed\n",
        "}\n",
        "\n",
        "# Get the appropriate icon for the weather description\n",
        "icon_path = weather_icons.get(desc, \"path_to_your_images/default.png\")\n",
        "\n",
        "# Print the weather details\n",
        "print(f\"The Current Weather in {city} is: {temp_in_celsius}°C, {desc}\")\n",
        "print(day)\n",
        "\n",
        "# Display the weather icon\n",
        "if os.path.exists(icon_path):\n",
        "    img = PILImage.open(icon_path)\n",
        "    img = img.resize((50, 50))  # Resize to 50x50 pixels or any other size you prefer\n",
        "    display(img)\n",
        "else:\n",
        "    print(\"Icon not found\")\n"
      ],
      "metadata": {
        "colab": {
          "base_uri": "https://localhost:8080/",
          "height": 119
        },
        "id": "_v7PUY8Xd1Ar",
        "outputId": "04c221db-b210-4178-add9-76455d0a94e0"
      },
      "execution_count": null,
      "outputs": [
        {
          "output_type": "stream",
          "name": "stdout",
          "text": [
            "Enter the city name: indore\n",
            "The Current Weather in indore is: 27°C, Cloudy\n",
            "Saturday 5:00 PM\n"
          ]
        },
        {
          "output_type": "display_data",
          "data": {
            "text/plain": [
              "<PIL.Image.Image image mode=RGB size=50x50>"
            ],
            "image/png": "[encoded data removed]"
          },
          "metadata": {}
        }
      ]
    }
  ]
}